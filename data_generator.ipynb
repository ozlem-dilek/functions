{
 "cells": [
  {
   "cell_type": "code",
   "execution_count": null,
   "metadata": {},
   "outputs": [],
   "source": [
    "from tensorflow.keras.preprocessing.image import ImageDataGenerator"
   ]
  },
  {
   "cell_type": "code",
   "execution_count": null,
   "metadata": {},
   "outputs": [],
   "source": [
    "def generator(path, size=(224,224), batch = 16, class_mode = 'categorical', rescale = 1/255)):\n",
    "  path = path\n",
    "  data_gen = ImageDataGenerator(rescale=rescale)\n",
    "\n",
    "  img_generator = data_gen.flow_from_directory(\n",
    "      path,\n",
    "      target_size=(size),\n",
    "      batch_size=batch,\n",
    "      class_mode=class_mode\n",
    "  )\n",
    "\n",
    "  return img_generator\n"
   ]
  }
 ],
 "metadata": {
  "language_info": {
   "name": "python"
  }
 },
 "nbformat": 4,
 "nbformat_minor": 2
}
