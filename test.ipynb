{
 "cells": [
  {
   "cell_type": "code",
   "execution_count": null,
   "metadata": {},
   "outputs": [],
   "source": [
    "from tensorflow.keras.models import Model, load_model\n",
    "from data_generator import generator"
   ]
  },
  {
   "cell_type": "code",
   "execution_count": null,
   "metadata": {},
   "outputs": [],
   "source": [
    "def test(model_path, test_generator=generator()):\n",
    "  model = load_model(model_path)\n",
    "  test_loss, test_accuracy = model.evaluate(test_generator, steps=len(test_generator))\n",
    "  print(f\"Test Loss: {test_loss}\")\n",
    "  print(f\"Test Accuracy: {test_accuracy}\")\n",
    "\n",
    "  return test_loss, test_accuracy"
   ]
  }
 ],
 "metadata": {
  "language_info": {
   "name": "python"
  }
 },
 "nbformat": 4,
 "nbformat_minor": 2
}
