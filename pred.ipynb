{
 "cells": [
  {
   "cell_type": "code",
   "execution_count": null,
   "metadata": {},
   "outputs": [],
   "source": [
    "import matplotlib.pyplot as plt\n",
    "from data_generator import generator\n",
    "from tensorflow.keras.models import Model, load_model"
   ]
  },
  {
   "cell_type": "code",
   "execution_count": null,
   "metadata": {},
   "outputs": [],
   "source": [
    "def prediction(model_path, data_generator=generator()):\n",
    "\n",
    "    model = load_model(model_path)\n",
    "    predictions = model.predict(data_generator)\n",
    "    num_samples_to_visualize = 20\n",
    "    test_labels = []\n",
    "    predicted_labels = []\n",
    "    images = []\n",
    "\n",
    "    for i, (images_batch, labels_batch) in enumerate(data_generator):\n",
    "        test_labels.extend(labels_batch.argmax(axis=1))\n",
    "        predicted_labels.extend(predictions[i * len(labels_batch):(i + 1) * len(labels_batch)].argmax(axis=1))\n",
    "        images.extend(images_batch)\n",
    "        if len(test_labels) >= num_samples_to_visualize:\n",
    "            break\n",
    "\n",
    "    test_labels = test_labels[:num_samples_to_visualize]\n",
    "    predicted_labels = predicted_labels[:num_samples_to_visualize]\n",
    "    images = images[:num_samples_to_visualize]\n",
    "\n",
    "    plt.figure(figsize=(24, 16))\n",
    "    for i in range(num_samples_to_visualize):\n",
    "        plt.subplot(4, 5, i + 1)\n",
    "        plt.imshow(images[i])\n",
    "        plt.title(f'Real: {test_labels[i]}, Predicted: {predicted_labels[i]}')\n",
    "        plt.axis('off')\n",
    "\n",
    "    plt.tight_layout()\n",
    "    return plt.show()"
   ]
  },
  {
   "cell_type": "code",
   "execution_count": null,
   "metadata": {},
   "outputs": [],
   "source": []
  }
 ],
 "metadata": {
  "kernelspec": {
   "display_name": "Python 3",
   "language": "python",
   "name": "python3"
  },
  "language_info": {
   "codemirror_mode": {
    "name": "ipython",
    "version": 3
   },
   "file_extension": ".py",
   "mimetype": "text/x-python",
   "name": "python",
   "nbconvert_exporter": "python",
   "pygments_lexer": "ipython3",
   "version": "3.12.0"
  }
 },
 "nbformat": 4,
 "nbformat_minor": 2
}
